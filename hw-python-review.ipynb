{
 "cells": [
  {
   "cell_type": "markdown",
   "metadata": {},
   "source": [
    "# Python Review\n",
    "\n",
    "Complete the following problems directly in the jupyter notebook.  When you are finished, save your work and push the completed notebook back to GitHub.\n",
    "\n",
    "---"
   ]
  },
  {
   "cell_type": "markdown",
   "metadata": {},
   "source": [
    "**1.  Write a Python function that will compute the Euclidean distance between any two points (x<sub>1</sub>, y<sub>1</sub>) and (x<sub>2</sub>, y<sub>2</sub>).  Use your function to find the distance between (1,3) and (7,11).** "
   ]
  },
  {
   "cell_type": "code",
   "execution_count": 222,
   "metadata": {},
   "outputs": [
    {
     "data": {
      "text/plain": [
       "10.0"
      ]
     },
     "execution_count": 222,
     "metadata": {},
     "output_type": "execute_result"
    }
   ],
   "source": [
    "def dist(p1: tuple = (0,0), p2: tuple = (1,1)): #require arguments to be tuples (placing defaults for convenience)\n",
    "    #Euclidean distance = sqrt(A^2 + B^2)\n",
    "    euclidean = ((p2[0] - p1[0])**2 + (p2[1] - p1[1])**2)**(1/2) \n",
    "    return euclidean\n",
    "\n",
    "dist((1,3), (7,11))"
   ]
  },
  {
   "cell_type": "markdown",
   "metadata": {},
   "source": [
    "-----\n",
    "**2. Write a Python function that computes the value of ``n + nn + nnn`` where ``n`` is an integer.  For example if,  ``n=2``, the function should return ``246`` (which is the sum of 2+22+222).**  "
   ]
  },
  {
   "cell_type": "markdown",
   "metadata": {},
   "source": [
    "Example output:\n",
    "```\n",
    "In [1]: your_function(2)\n",
    "Out[1]: 246\n",
    "```\n",
    "(Give your function a sensible name.  Don't use `your_function` as a name.)"
   ]
  },
  {
   "cell_type": "code",
   "execution_count": 221,
   "metadata": {},
   "outputs": [
    {
     "data": {
      "text/plain": [
       "246"
      ]
     },
     "execution_count": 221,
     "metadata": {},
     "output_type": "execute_result"
    }
   ],
   "source": [
    "def summation(num):\n",
    "    #make sure num is an integer\n",
    "    if type(num) != int:\n",
    "        print('Please pass an integer into the function.')\n",
    "    else:\n",
    "        #use f strings to concat num (converting f strings to integers as well)\n",
    "        sum = num + int(f'{num}{num}') + int(f'{num}{num}{num}')\n",
    "        return sum\n",
    "summation(2)"
   ]
  },
  {
   "cell_type": "markdown",
   "metadata": {},
   "source": [
    "-----\n",
    "**3. Write a Python function that determines if ``n`` is a perfect square, where ``n`` is an integer.  The function return either \"False\" or \"n is a perfect square of x\"  (where ``n`` and ``x`` are appropriate for the input).**"
   ]
  },
  {
   "cell_type": "markdown",
   "metadata": {},
   "source": [
    "Example output:\n",
    "\n",
    "```\n",
    "In [1]: your_function(24)\n",
    "Out[1]: False\n",
    "\n",
    "In [2]: your_function(25)\n",
    "Out[2]: 25 is a perfect square of 5\n",
    "```\n",
    "(Give your function a sensible name.  Don't use `your_function` as a name.)"
   ]
  },
  {
   "cell_type": "code",
   "execution_count": 220,
   "metadata": {},
   "outputs": [
    {
     "data": {
      "text/plain": [
       "'25 is a perfect square of 5'"
      ]
     },
     "execution_count": 220,
     "metadata": {},
     "output_type": "execute_result"
    }
   ],
   "source": [
    "def IsSquare(n: int):\n",
    "    #require an integer to be passed\n",
    "    if type(n) != int:\n",
    "        print('Please pass an integer into the function.')\n",
    "    else:\n",
    "        #get the the square root of n\n",
    "        x = n**(1/2)\n",
    "        #check if there is a remainder in n modulo x; if no remainder, it's a perfect square \n",
    "        if n % x == 0:\n",
    "            return f'{n} is a perfect square of {int(x)}'\n",
    "        else:\n",
    "            return False\n",
    "\n",
    "IsSquare(25)\n",
    "\n"
   ]
  },
  {
   "cell_type": "markdown",
   "metadata": {},
   "source": [
    "----\n",
    "**4. Write a Python function that checks whether a string is a palindrome or not.  A palindrome is a word or phrase that reads the same forwards and backwards (ignoring spaces), such as \"madam\" or \"nurses run\".** "
   ]
  },
  {
   "cell_type": "markdown",
   "metadata": {},
   "source": [
    "Example output:\n",
    "\n",
    "```\n",
    "In [1]: your_function('madam')\n",
    "Out[1]: True\n",
    "\n",
    "In [2]: your_function('nurses run')\n",
    "Out[2]: True\n",
    "\n",
    "In [3]: your_function('starlight')\n",
    "Out[3]: False\n",
    "```\n",
    "(Give your function a sensible name.  Don't use `your_function` as a name.)"
   ]
  },
  {
   "cell_type": "code",
   "execution_count": 214,
   "metadata": {},
   "outputs": [
    {
     "data": {
      "text/plain": [
       "True"
      ]
     },
     "execution_count": 214,
     "metadata": {},
     "output_type": "execute_result"
    }
   ],
   "source": [
    "def IsPalendrome(word):\n",
    "    #check if word is a string\n",
    "    if type(word) != str:\n",
    "        print('Please pass a string into the function.')\n",
    "    else:\n",
    "        isPalendrome = True\n",
    "        #this loops through each letter from front to back and compares them\n",
    "        for i in word:\n",
    "            first = 0\n",
    "            last = -1\n",
    "            if word[first] == word[last]:\n",
    "                first += 1\n",
    "                last -= 1\n",
    "            #if the letters are not equal, set isPalendrome to false\n",
    "            else:\n",
    "                isPalendrome = False\n",
    "                break\n",
    "        return isPalendrome\n",
    "\n",
    "#spaces are automatically ignored\n",
    "#Note: case matters in this function\n",
    "IsPalendrome('nurses run')"
   ]
  },
  {
   "cell_type": "markdown",
   "metadata": {},
   "source": [
    "----\n",
    "**5. Write a Python function that accepts a string and calculates the number of upper case letters, the number of lower case letters, and the number of spaces.  The function should return a dictionary where the keys are \"upper\", \"lower\", and \"space\" and the value is the number of occurences.  See the example output below.**    \n",
    "(Hint:  check out what methods are available for strings.)  "
   ]
  },
  {
   "cell_type": "markdown",
   "metadata": {},
   "source": [
    " Example output:\n",
    "\n",
    "```\n",
    "In [1]: s = \"HELLO!! How are you today?\"\n",
    "        your_function(s)\n",
    "Out[1]: {'upper': 6, 'lower': 13, 'space': 4}\n",
    "\n",
    "```\n",
    "(Give your function a sensible name.  Don't use `your_function` as a name.)"
   ]
  },
  {
   "cell_type": "code",
   "execution_count": 213,
   "metadata": {},
   "outputs": [
    {
     "data": {
      "text/plain": [
       "{'upper': 6, 'lower': 13, 'space': 4}"
      ]
     },
     "execution_count": 213,
     "metadata": {},
     "output_type": "execute_result"
    }
   ],
   "source": [
    "def Structure(sentence):\n",
    "    #check if sentence is a string\n",
    "    if type(sentence) != str:\n",
    "        print('Please pass a string into the function.')\n",
    "    else:\n",
    "        upper = 0\n",
    "        lower = 0\n",
    "        space = 0\n",
    "        #loop through each character and check the conditions of uppercase, lowercase, or space\n",
    "        #if a condition is satisfied, that variable is incremented\n",
    "        for i in sentence:\n",
    "            if i.isupper(): upper += 1\n",
    "            if i.islower(): lower += 1\n",
    "            if i.isspace(): space += 1\n",
    "        structure = {'upper': upper, 'lower': lower, 'space': space}\n",
    "        return structure\n",
    "\n",
    "Structure('HELLO!! How are you today?')"
   ]
  },
  {
   "cell_type": "markdown",
   "metadata": {},
   "source": [
    "----\n",
    "**6. Write a Python function that accepts a string a returns a dictionary where the key word is a word length and the value is a list of all the words that are that word length.  See the example output below.**  "
   ]
  },
  {
   "cell_type": "markdown",
   "metadata": {},
   "source": [
    "Example output: (*It's okay if the keys of your dictionary are in a different order*)\n",
    "\n",
    "```\n",
    "In [1]: s = \"It is a truth universally acknowledged that a single man in possession of a good fortune must be in want of a wife\"\n",
    "        \n",
    "In [2]: your_function(s)\n",
    "\n",
    "Out[2]: {1: ['a', 'a', 'a', 'a'],\n",
    "         2: ['It', 'is', 'in', 'of', 'be', 'in', 'of'],\n",
    "         3: ['man'],\n",
    "         4: ['that', 'good', 'must', 'want', 'wife'],\n",
    "         5: ['truth'],\n",
    "         6: ['single'],\n",
    "         7: ['fortune'],\n",
    "         10: ['possession'],\n",
    "         11: ['universally'],\n",
    "         12: ['acknowledged']}\n",
    "```\n",
    "(Give your function a sensible name.  Don't use `your_function` as a name.)"
   ]
  },
  {
   "cell_type": "code",
   "execution_count": 211,
   "metadata": {},
   "outputs": [
    {
     "data": {
      "text/plain": [
       "{2: ['It', 'is', 'in', 'of', 'be', 'in', 'of'],\n",
       " 1: ['a', 'a', 'a', 'a'],\n",
       " 5: ['truth'],\n",
       " 11: ['universally'],\n",
       " 12: ['acknowledged'],\n",
       " 4: ['that', 'good', 'must', 'want', 'wife'],\n",
       " 6: ['single'],\n",
       " 3: ['man'],\n",
       " 10: ['possession'],\n",
       " 7: ['fortune']}"
      ]
     },
     "execution_count": 211,
     "metadata": {},
     "output_type": "execute_result"
    }
   ],
   "source": [
    "def WordLengths(sentence):\n",
    "    #check if sentence is a string\n",
    "    if type(sentence) != str:\n",
    "        print('Please pass a string into the function.')\n",
    "    else:\n",
    "        #initialize variables to be filled\n",
    "        words = []\n",
    "        word = ''\n",
    "        lengths = {}\n",
    "\n",
    "        #loop through each charactr of the sentence. If the character is a letter, add it to a word.\n",
    "        #once it finds a space, place that word into a list of words - this gets a list of each word in the sentence.\n",
    "        #fill a dictionary with keys of each length that have values of empty lists to be filled later\n",
    "        for i in sentence:\n",
    "            if i.isspace() and len(word) > 0:\n",
    "                words.append(word)\n",
    "                lengths.update({len(word): []}) #if a key already exists of this word length, it will be overwritten\n",
    "                word = ''\n",
    "            elif i.isalpha():\n",
    "                word = word + i #does not include punctuation\n",
    "\n",
    "        #append the last word and add new key to the dictionary from the last word (outside of loop)\n",
    "        words.append(word) \n",
    "        lengths.update({len(word): []})\n",
    "\n",
    "        #loop through the list of words; loop through the keys of the dictionary: if the length of the word matches the\n",
    "        #dictionary key, append that word to the list within the dictionary.\n",
    "        for i in words:\n",
    "            for j in lengths:\n",
    "                if len(i) == j:\n",
    "                    lengths[j].append(i)\n",
    "        return lengths\n",
    "            \n",
    "WordLengths('It is a truth universally acknowledged that a single man in possession of a good fortune must be in want of a wife')\n",
    "\n"
   ]
  },
  {
   "cell_type": "markdown",
   "metadata": {},
   "source": [
    "----\n",
    "**7.  Make a list all the numbers between 0 and 300 that have a 3 in them AND are divisible by 3**.  \n",
    "\n",
    "(There should be 20 numbers in the list)"
   ]
  },
  {
   "cell_type": "markdown",
   "metadata": {},
   "source": [
    "a. Using a for loop"
   ]
  },
  {
   "cell_type": "code",
   "execution_count": 152,
   "metadata": {},
   "outputs": [
    {
     "name": "stdout",
     "output_type": "stream",
     "text": [
      "[3, 30, 33, 36, 39, 63, 93, 123, 132, 135, 138, 153, 183, 213, 231, 234, 237, 243, 273, 300]\n",
      "20\n"
     ]
    }
   ],
   "source": [
    "threes = []\n",
    "for i in range(301): #loop through 300\n",
    "    #check if each number fulfils the requirements\n",
    "    if str(i).find('3') != -1 and i % 3 == 0: threes.append(i)\n",
    "\n",
    "print(threes)\n",
    "print(len(threes))"
   ]
  },
  {
   "cell_type": "markdown",
   "metadata": {},
   "source": [
    "b. Using a list comprehension"
   ]
  },
  {
   "cell_type": "code",
   "execution_count": 160,
   "metadata": {},
   "outputs": [
    {
     "name": "stdout",
     "output_type": "stream",
     "text": [
      "[3, 30, 33, 36, 39, 63, 93, 123, 132, 135, 138, 153, 183, 213, 231, 234, 237, 243, 273, 300]\n",
      "20\n"
     ]
    }
   ],
   "source": [
    "numbers = list(range(301))\n",
    "# same conditional as above, but using list comprehension\n",
    "threes = [x for x in numbers if str(x).find('3') != -1 and x % 3 == 0]\n",
    "print(threes)\n",
    "print(len(threes))"
   ]
  },
  {
   "cell_type": "markdown",
   "metadata": {},
   "source": [
    "---\n",
    "**8. Use a dictionary comprehension to creat a diction where the keys are the numbers between 100 and 200 (inclusive) that are divisble by 10 and the value associated with each key is the key divided by 100.**"
   ]
  },
  {
   "cell_type": "markdown",
   "metadata": {},
   "source": [
    "*Desired result*\n",
    "\n",
    "```\n",
    "Out[1]: {100: 1.0,\n",
    "         110: 1.1,\n",
    "         120: 1.2,\n",
    "         130: 1.3,\n",
    "         140: 1.4,\n",
    "         150: 1.5,\n",
    "         160: 1.6,\n",
    "         170: 1.7,\n",
    "         180: 1.8,\n",
    "         190: 1.9,\n",
    "         200: 2.0}\n",
    " ```\n",
    " "
   ]
  },
  {
   "cell_type": "code",
   "execution_count": 171,
   "metadata": {},
   "outputs": [
    {
     "name": "stdout",
     "output_type": "stream",
     "text": [
      "{100: 1.0, 110: 1.1, 120: 1.2, 130: 1.3, 140: 1.4, 150: 1.5, 160: 1.6, 170: 1.7, 180: 1.8, 190: 1.9, 200: 2.0}\n"
     ]
    }
   ],
   "source": [
    "tens = {n:n/100 for n in range(100,201,10)}\n",
    "\n",
    "#another less efficient way to do it:\n",
    "#tens = {n:n/100 for n in range(100,201) if n % 10 == 0}\n",
    "\n",
    "print(tens)"
   ]
  },
  {
   "cell_type": "markdown",
   "metadata": {},
   "source": [
    "----\n",
    "**9. In the following nested dictionaries, using indexing to grab the \"hello\"**"
   ]
  },
  {
   "cell_type": "code",
   "execution_count": 178,
   "metadata": {},
   "outputs": [],
   "source": [
    "d1 = {'k1':{'k2':'hello'}}"
   ]
  },
  {
   "cell_type": "code",
   "execution_count": 183,
   "metadata": {},
   "outputs": [
    {
     "name": "stdout",
     "output_type": "stream",
     "text": [
      "hello\n"
     ]
    }
   ],
   "source": [
    "#grab \"hello\"\n",
    "print(d1['k1']['k2'])"
   ]
  },
  {
   "cell_type": "code",
   "execution_count": 184,
   "metadata": {},
   "outputs": [],
   "source": [
    "d2 = {'k1':[1,2,{'k2':['item',{'apple':[1,2,['hello']]}]}]}"
   ]
  },
  {
   "cell_type": "code",
   "execution_count": 186,
   "metadata": {},
   "outputs": [
    {
     "name": "stdout",
     "output_type": "stream",
     "text": [
      "hello\n"
     ]
    }
   ],
   "source": [
    "# grab \"hello\"\n",
    "print(d2['k1'][2]['k2'][1]['apple'][2][0])"
   ]
  },
  {
   "cell_type": "markdown",
   "metadata": {},
   "source": [
    "---\n",
    "**10. Given a sentance that is a python string, make a list of words.**\n",
    "\n",
    "```\n",
    "s = \"It is a truth universally acknowledged that a single man in possession of a good fortune must be in want of a wife\"\n",
    "```\n",
    "*Desired result*\n",
    "```\n",
    "['It',\n",
    " 'is',\n",
    " 'a',\n",
    " 'truth',\n",
    " 'universally',\n",
    " 'acknowledged',\n",
    " 'that',\n",
    " 'a',\n",
    " 'single',\n",
    " 'man',\n",
    " 'in',\n",
    " 'possession',\n",
    " 'of',\n",
    " 'a',\n",
    " 'good',\n",
    " 'fortune',\n",
    " 'must',\n",
    " 'be',\n",
    " 'in',\n",
    " 'want',\n",
    " 'of',\n",
    " 'a',\n",
    " 'wife']\n",
    "```"
   ]
  },
  {
   "cell_type": "code",
   "execution_count": 209,
   "metadata": {},
   "outputs": [
    {
     "data": {
      "text/plain": [
       "['It',\n",
       " 'is',\n",
       " 'a',\n",
       " 'truth',\n",
       " 'universally',\n",
       " 'acknowledged',\n",
       " 'that',\n",
       " 'a',\n",
       " 'single',\n",
       " 'man',\n",
       " 'in',\n",
       " 'possession',\n",
       " 'of',\n",
       " 'a',\n",
       " 'good',\n",
       " 'fortune',\n",
       " 'must',\n",
       " 'be',\n",
       " 'in',\n",
       " 'want',\n",
       " 'of',\n",
       " 'a',\n",
       " 'wife']"
      ]
     },
     "execution_count": 209,
     "metadata": {},
     "output_type": "execute_result"
    }
   ],
   "source": [
    "def Words(sentence: str):\n",
    "    #checks that the input is a string\n",
    "    if type(sentence) != str:\n",
    "        print('Please pass a string into the function.')\n",
    "    else:\n",
    "        #initialize variables to be filled later\n",
    "        words = []\n",
    "        word = ''\n",
    "\n",
    "        #loop through each character of the sentence\n",
    "        for i in sentence:\n",
    "            if i.isspace() and len(word) > 0: #if the character is a space, append the word to the list (also don't append blank words)\n",
    "                words.append(word)\n",
    "                word = '' #reset word to blank after adding to the list\n",
    "            elif i.isalpha(): #if the character is a letter, add it to the current word\n",
    "                word = word + i\n",
    "        words.append(word) #add the last word\n",
    "        return words        \n",
    "        # this code is much simpler and faster, but it does not take into account punctuation:\n",
    "        # list = sentence.split()\n",
    "        # print(list)\n",
    "Words('It is a truth universally acknowledged that a single man in possession of a good fortune must be in want of a wife.')"
   ]
  },
  {
   "cell_type": "markdown",
   "metadata": {},
   "source": [
    "---\n",
    "**11. Given a list of words, make a sentence that is a python string.**\n",
    "\n",
    "```\n",
    "words = ['It',\n",
    "         'is',\n",
    "         'a',\n",
    "         'truth',\n",
    "         'universally',\n",
    "         'acknowledged',\n",
    "         'that',\n",
    "         'a',\n",
    "         'single',\n",
    "         'man',\n",
    "         'in',\n",
    "         'possession',\n",
    "         'of',\n",
    "         'a',\n",
    "         'good',\n",
    "         'fortune',\n",
    "         'must',\n",
    "         'be',\n",
    "         'in',\n",
    "         'want',\n",
    "         'of',\n",
    "         'a',\n",
    "         'wife']\n",
    "```\n",
    "*Desired result*\n",
    "```\n",
    "\"It is a truth universally acknowledged that a single man in possession of a good fortune must be in want of a wife\"\n",
    "```"
   ]
  },
  {
   "cell_type": "code",
   "execution_count": 208,
   "metadata": {},
   "outputs": [
    {
     "data": {
      "text/plain": [
       "'It is a truth universally acknowledged that a single man in possession of a good fortune must be in want of a wife'"
      ]
     },
     "execution_count": 208,
     "metadata": {},
     "output_type": "execute_result"
    }
   ],
   "source": [
    "def CreateSentence(words: list):\n",
    "    # check to make sure that argument is a list\n",
    "    if type(words) != list: print('Pleast pass a list into the function.')\n",
    "    else:\n",
    "        #initialize variable to be filled later\n",
    "        sentence = ''\n",
    "        # loop through words list and concat them to the sentence variable\n",
    "        for i in words:\n",
    "            if len(sentence) == 0: sentence = i #make sure it does not start with a space\n",
    "            else: sentence = sentence + ' ' + i\n",
    "        return sentence\n",
    "\n",
    "words = ['It',\n",
    "         'is',\n",
    "         'a',\n",
    "         'truth',\n",
    "         'universally',\n",
    "         'acknowledged',\n",
    "         'that',\n",
    "         'a',\n",
    "         'single',\n",
    "         'man',\n",
    "         'in',\n",
    "         'possession',\n",
    "         'of',\n",
    "         'a',\n",
    "         'good',\n",
    "         'fortune',\n",
    "         'must',\n",
    "         'be',\n",
    "         'in',\n",
    "         'want',\n",
    "         'of',\n",
    "         'a',\n",
    "         'wife']\n",
    "\n",
    "CreateSentence(words)"
   ]
  },
  {
   "cell_type": "markdown",
   "metadata": {},
   "source": [
    "---\n",
    "\n",
    "**12. Using `try` and `except`, modify the `div` function below such that if `b=0`, the function will print \"You can't divide by 0\" instead of throwing and error.**\n",
    "\n",
    "```\n",
    "In [1]: def div(a,b):\n",
    "            return a/b\n",
    "    \n",
    "In [2]: div(6,3)\n",
    "```\n",
    "\n",
    "*Desired output*\n",
    "\n",
    "```\n",
    "Out [2]: 2.0\n",
    "```\n",
    "---\n",
    "```\n",
    "In [3]: div(6,0)\n",
    "```\n",
    "\n",
    "*Desired output*\n",
    "\n",
    "You can't divide by 0\n",
    "\n",
    "---\n",
    "*Undesired output*\n",
    "\n",
    "```\n",
    "---------------------------------------------------------------------------\n",
    "ZeroDivisionError                         Traceback (most recent call last)\n",
    "/var/folders/k4/x1_f5qd56dx0rk9dg0z1zd4c0000gp/T/ipykernel_64186/985349526.py in <module>\n",
    "----> 1 div(5,0)\n",
    "\n",
    "/var/folders/k4/x1_f5qd56dx0rk9dg0z1zd4c0000gp/T/ipykernel_64186/3173384365.py in div(a, b)\n",
    "      1 def div(a,b):\n",
    "----> 2     return a/b\n",
    "\n",
    "ZeroDivisionError: division by zero\n",
    "```\n"
   ]
  },
  {
   "cell_type": "code",
   "execution_count": 227,
   "metadata": {},
   "outputs": [
    {
     "name": "stdout",
     "output_type": "stream",
     "text": [
      "You can't divide by 0\n"
     ]
    }
   ],
   "source": [
    "def dif(a,b):\n",
    "    try:\n",
    "        return a/b\n",
    "    except: #if b = 0, the following will execute\n",
    "        print(\"You can't divide by 0\")\n",
    "\n",
    "dif(6,3)\n",
    "dif(6,0)"
   ]
  },
  {
   "cell_type": "markdown",
   "metadata": {},
   "source": [
    "---\n",
    "**13.  What is the difference between a tuple and a list?**\n"
   ]
  },
  {
   "cell_type": "code",
   "execution_count": null,
   "metadata": {},
   "outputs": [],
   "source": [
    "# Tuples and lists are the same, except that tuples are not allowed to be modified.\n",
    "# Lists can be modified."
   ]
  },
  {
   "cell_type": "markdown",
   "metadata": {},
   "source": [
    "---\n",
    "**14.  What is tuple unpacking?  Give a simple example of tuple unpacking.**\n"
   ]
  },
  {
   "cell_type": "code",
   "execution_count": 229,
   "metadata": {},
   "outputs": [
    {
     "name": "stdout",
     "output_type": "stream",
     "text": [
      "Ben\n",
      "Quadrinaros\n",
      "Power Couplings\n"
     ]
    }
   ],
   "source": [
    "# Tuple unpacking is creating variables from each value within a tuple at one time\n",
    "#Example:\n",
    "\n",
    "myTuple = ('Ben', 'Quadrinaros', 'Power Couplings')\n",
    "(firstName, lastName, part) = myTuple\n",
    "\n",
    "print(firstName)\n",
    "print(lastName)\n",
    "print(part)"
   ]
  },
  {
   "cell_type": "markdown",
   "metadata": {},
   "source": [
    "---\n",
    "**15. What is a lambda function and why is it useful?**"
   ]
  },
  {
   "cell_type": "code",
   "execution_count": 230,
   "metadata": {},
   "outputs": [],
   "source": [
    "# A lambda function is a small anonymous function that can have as many arguments as desired,\n",
    "# but only one expression.\n",
    "\n",
    "# Lambda functions are usefull when combined with larger, more complicated functions. They can\n",
    "# be used as arguments to other functions, and they are useful when combined with functions \n",
    "# like map or filter"
   ]
  }
 ],
 "metadata": {
  "kernelspec": {
   "display_name": "Python 3",
   "language": "python",
   "name": "python3"
  },
  "language_info": {
   "codemirror_mode": {
    "name": "ipython",
    "version": 3
   },
   "file_extension": ".py",
   "mimetype": "text/x-python",
   "name": "python",
   "nbconvert_exporter": "python",
   "pygments_lexer": "ipython3",
   "version": "3.10.7"
  },
  "vscode": {
   "interpreter": {
    "hash": "400cd14d12c292ce7f00a127e6c63ebc746ba485d566a73057749b227437f068"
   }
  }
 },
 "nbformat": 4,
 "nbformat_minor": 2
}
