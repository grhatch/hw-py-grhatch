{
 "cells": [
  {
   "cell_type": "markdown",
   "metadata": {},
   "source": [
    "# Python Review\n",
    "\n",
    "Complete the following problems directly in the jupyter notebook.  When you are finished, save your work and push the completed notebook back to GitHub.\n",
    "\n",
    "---"
   ]
  },
  {
   "cell_type": "markdown",
   "metadata": {},
   "source": [
    "**1.  Write a Python function that will compute the Euclidean distance between any two points (x<sub>1</sub>, y<sub>1</sub>) and (x<sub>2</sub>, y<sub>2</sub>).  Use your function to find the distance between (1,3) and (7,11).** "
   ]
  },
  {
   "cell_type": "code",
   "execution_count": 21,
   "metadata": {},
   "outputs": [
    {
     "name": "stdout",
     "output_type": "stream",
     "text": [
      "10.0\n"
     ]
    }
   ],
   "source": [
    "def dist(p1: tuple = (0,0), p2: tuple = (1,1)): #require arguments to be tuples (placing defaults for convenience)\n",
    "    #Euclidean distance = sqrt(A^2 + B^2)\n",
    "    euclidean = ((p2[0] - p1[0])**2 + (p2[1] - p1[1])**2)**(1/2) \n",
    "    print(euclidean)\n",
    "\n",
    "dist((1,3), (7,11))"
   ]
  },
  {
   "cell_type": "markdown",
   "metadata": {},
   "source": [
    "-----\n",
    "**2. Write a Python function that computes the value of ``n + nn + nnn`` where ``n`` is an integer.  For example if,  ``n=2``, the function should return ``246`` (which is the sum of 2+22+222).**  "
   ]
  },
  {
   "cell_type": "markdown",
   "metadata": {},
   "source": [
    "Example output:\n",
    "```\n",
    "In [1]: your_function(2)\n",
    "Out[1]: 246\n",
    "```\n",
    "(Give your function a sensible name.  Don't use `your_function` as a name.)"
   ]
  },
  {
   "cell_type": "code",
   "execution_count": null,
   "metadata": {},
   "outputs": [],
   "source": []
  },
  {
   "cell_type": "markdown",
   "metadata": {},
   "source": [
    "-----\n",
    "**3. Write a Python function that determines if ``n`` is a perfect square, where ``n`` is an integer.  The function return either \"False\" or \"n is a perfect square of x\"  (where ``n`` and ``x`` are appropriate for the input).**"
   ]
  },
  {
   "cell_type": "markdown",
   "metadata": {},
   "source": [
    "Example output:\n",
    "\n",
    "```\n",
    "In [1]: your_function(24)\n",
    "Out[1]: False\n",
    "\n",
    "In [2]: your_function(25)\n",
    "Out[2]: 25 is a perfect square of 5\n",
    "```\n",
    "(Give your function a sensible name.  Don't use `your_function` as a name.)"
   ]
  },
  {
   "cell_type": "code",
   "execution_count": null,
   "metadata": {},
   "outputs": [],
   "source": []
  },
  {
   "cell_type": "markdown",
   "metadata": {},
   "source": [
    "----\n",
    "**4. Write a Python function that checks whether a string is a palindrome or not.  A palindrome is a word or phrase that reads the same forwards and backwards (ignoring spaces), such as \"madam\" or \"nurses run\".** "
   ]
  },
  {
   "cell_type": "markdown",
   "metadata": {},
   "source": [
    "Example output:\n",
    "\n",
    "```\n",
    "In [1]: your_function('madam')\n",
    "Out[1]: True\n",
    "\n",
    "In [2]: your_function('nurses run')\n",
    "Out[2]: True\n",
    "\n",
    "In [3]: your_function('starlight')\n",
    "Out[3]: False\n",
    "```\n",
    "(Give your function a sensible name.  Don't use `your_function` as a name.)"
   ]
  },
  {
   "cell_type": "code",
   "execution_count": null,
   "metadata": {},
   "outputs": [],
   "source": []
  },
  {
   "cell_type": "markdown",
   "metadata": {},
   "source": [
    "----\n",
    "**5. Write a Python function that accepts a string and calculates the number of upper case letters, the number of lower case letters, and the number of spaces.  The function should return a dictionary where the keys are \"upper\", \"lower\", and \"space\" and the value is the number of occurences.  See the example output below.**    \n",
    "(Hint:  check out what methods are available for strings.)  "
   ]
  },
  {
   "cell_type": "markdown",
   "metadata": {},
   "source": [
    " Example output:\n",
    "\n",
    "```\n",
    "In [1]: s = \"HELLO!! How are you today?\"\n",
    "        your_function(s)\n",
    "Out[1]: {'upper': 6, 'lower': 13, 'space': 4}\n",
    "\n",
    "```\n",
    "(Give your function a sensible name.  Don't use `your_function` as a name.)"
   ]
  },
  {
   "cell_type": "code",
   "execution_count": null,
   "metadata": {},
   "outputs": [],
   "source": []
  },
  {
   "cell_type": "markdown",
   "metadata": {},
   "source": [
    "----\n",
    "**6. Write a Python function that accepts a string a returns a dictionary where the key word is a word length and the value is a list of all the words that are that word length.  See the example output below.**  "
   ]
  },
  {
   "cell_type": "markdown",
   "metadata": {},
   "source": [
    "Example output: (*It's okay if the keys of your dictionary are in a different order*)\n",
    "\n",
    "```\n",
    "In [1]: s = \"It is a truth universally acknowledged that a single man in possession of a good fortune must be in want of a wife\"\n",
    "        \n",
    "In [2]: your_function(s)\n",
    "\n",
    "Out[2]: {1: ['a', 'a', 'a', 'a'],\n",
    "         2: ['It', 'is', 'in', 'of', 'be', 'in', 'of'],\n",
    "         3: ['man'],\n",
    "         4: ['that', 'good', 'must', 'want', 'wife'],\n",
    "         5: ['truth'],\n",
    "         6: ['single'],\n",
    "         7: ['fortune'],\n",
    "         10: ['possession'],\n",
    "         11: ['universally'],\n",
    "         12: ['acknowledged']}\n",
    "```\n",
    "(Give your function a sensible name.  Don't use `your_function` as a name.)"
   ]
  },
  {
   "cell_type": "code",
   "execution_count": null,
   "metadata": {},
   "outputs": [],
   "source": []
  },
  {
   "cell_type": "markdown",
   "metadata": {},
   "source": [
    "----\n",
    "**7.  Make a list all the numbers between 0 and 300 that have a 3 in them AND are divisible by 3**.  \n",
    "\n",
    "(There should be 20 numbers in the list)"
   ]
  },
  {
   "cell_type": "markdown",
   "metadata": {},
   "source": [
    "a. Using a for loop"
   ]
  },
  {
   "cell_type": "code",
   "execution_count": null,
   "metadata": {},
   "outputs": [],
   "source": []
  },
  {
   "cell_type": "markdown",
   "metadata": {},
   "source": [
    "b. Using a list comprehension"
   ]
  },
  {
   "cell_type": "code",
   "execution_count": null,
   "metadata": {},
   "outputs": [],
   "source": []
  },
  {
   "cell_type": "markdown",
   "metadata": {},
   "source": [
    "---\n",
    "**8. Use a dictionary comprehension to creat a diction where the keys are the numbers between 100 and 200 (inclusive) that are divisble by 10 and the value associated with each key is the key divided by 100.**"
   ]
  },
  {
   "cell_type": "markdown",
   "metadata": {},
   "source": [
    "*Desired result*\n",
    "\n",
    "```\n",
    "Out[1]: {100: 1.0,\n",
    "         110: 1.1,\n",
    "         120: 1.2,\n",
    "         130: 1.3,\n",
    "         140: 1.4,\n",
    "         150: 1.5,\n",
    "         160: 1.6,\n",
    "         170: 1.7,\n",
    "         180: 1.8,\n",
    "         190: 1.9,\n",
    "         200: 2.0}\n",
    " ```\n",
    " "
   ]
  },
  {
   "cell_type": "code",
   "execution_count": null,
   "metadata": {},
   "outputs": [],
   "source": []
  },
  {
   "cell_type": "markdown",
   "metadata": {},
   "source": [
    "----\n",
    "**9. In the following nested dictionaries, using indexing to grab the \"hello\"**"
   ]
  },
  {
   "cell_type": "code",
   "execution_count": 22,
   "metadata": {},
   "outputs": [],
   "source": [
    "d1 = {'k1':{'k2':'hello'}}"
   ]
  },
  {
   "cell_type": "code",
   "execution_count": 36,
   "metadata": {},
   "outputs": [],
   "source": [
    "#grab \"hello\"\n"
   ]
  },
  {
   "cell_type": "code",
   "execution_count": 24,
   "metadata": {},
   "outputs": [],
   "source": [
    "d2 = {'k1':[1,2,{'k2':['item',{'apple':[1,2,['hello']]}]}]}"
   ]
  },
  {
   "cell_type": "code",
   "execution_count": 37,
   "metadata": {},
   "outputs": [],
   "source": [
    "# grab \"hello\"\n"
   ]
  },
  {
   "cell_type": "markdown",
   "metadata": {},
   "source": [
    "---\n",
    "**10. Given a sentance that is a python string, make a list of words.**\n",
    "\n",
    "```\n",
    "s = \"It is a truth universally acknowledged that a single man in possession of a good fortune must be in want of a wife\"\n",
    "```\n",
    "*Desired result*\n",
    "```\n",
    "['It',\n",
    " 'is',\n",
    " 'a',\n",
    " 'truth',\n",
    " 'universally',\n",
    " 'acknowledged',\n",
    " 'that',\n",
    " 'a',\n",
    " 'single',\n",
    " 'man',\n",
    " 'in',\n",
    " 'possession',\n",
    " 'of',\n",
    " 'a',\n",
    " 'good',\n",
    " 'fortune',\n",
    " 'must',\n",
    " 'be',\n",
    " 'in',\n",
    " 'want',\n",
    " 'of',\n",
    " 'a',\n",
    " 'wife']\n",
    "```"
   ]
  },
  {
   "cell_type": "markdown",
   "metadata": {},
   "source": [
    "---\n",
    "**11. Given a list of words, make a sentence that is a python string.**\n",
    "\n",
    "```\n",
    "words = ['It',\n",
    "         'is',\n",
    "         'a',\n",
    "         'truth',\n",
    "         'universally',\n",
    "         'acknowledged',\n",
    "         'that',\n",
    "         'a',\n",
    "         'single',\n",
    "         'man',\n",
    "         'in',\n",
    "         'possession',\n",
    "         'of',\n",
    "         'a',\n",
    "         'good',\n",
    "         'fortune',\n",
    "         'must',\n",
    "         'be',\n",
    "         'in',\n",
    "         'want',\n",
    "         'of',\n",
    "         'a',\n",
    "         'wife']\n",
    "```\n",
    "*Desired result*\n",
    "```\n",
    "\"It is a truth universally acknowledged that a single man in possession of a good fortune must be in want of a wife\"\n",
    "```"
   ]
  },
  {
   "cell_type": "code",
   "execution_count": null,
   "metadata": {},
   "outputs": [],
   "source": []
  },
  {
   "cell_type": "markdown",
   "metadata": {},
   "source": [
    "---\n",
    "\n",
    "**12. Using `try` and `except`, modify the `div` function below such that if `b=0`, the function will print \"You can't divide by 0\" instead of throwing and error.**\n",
    "\n",
    "```\n",
    "In [1]: def div(a,b):\n",
    "            return a/b\n",
    "    \n",
    "In [2]: div(6,3)\n",
    "```\n",
    "\n",
    "*Desired output*\n",
    "\n",
    "```\n",
    "Out [2]: 2.0\n",
    "```\n",
    "---\n",
    "```\n",
    "In [3]: div(6,0)\n",
    "```\n",
    "\n",
    "*Desired output*\n",
    "\n",
    "You can't divide by 0\n",
    "\n",
    "---\n",
    "*Undesired output*\n",
    "\n",
    "```\n",
    "---------------------------------------------------------------------------\n",
    "ZeroDivisionError                         Traceback (most recent call last)\n",
    "/var/folders/k4/x1_f5qd56dx0rk9dg0z1zd4c0000gp/T/ipykernel_64186/985349526.py in <module>\n",
    "----> 1 div(5,0)\n",
    "\n",
    "/var/folders/k4/x1_f5qd56dx0rk9dg0z1zd4c0000gp/T/ipykernel_64186/3173384365.py in div(a, b)\n",
    "      1 def div(a,b):\n",
    "----> 2     return a/b\n",
    "\n",
    "ZeroDivisionError: division by zero\n",
    "```\n"
   ]
  },
  {
   "cell_type": "markdown",
   "metadata": {},
   "source": [
    "---\n",
    "**13.  What is the difference between a tuple and a list?**\n"
   ]
  },
  {
   "cell_type": "code",
   "execution_count": null,
   "metadata": {},
   "outputs": [],
   "source": []
  },
  {
   "cell_type": "markdown",
   "metadata": {},
   "source": [
    "---\n",
    "**14.  What is tuple unpacking?  Give a simple example of tuple unpacking.**\n"
   ]
  },
  {
   "cell_type": "code",
   "execution_count": null,
   "metadata": {},
   "outputs": [],
   "source": []
  },
  {
   "cell_type": "markdown",
   "metadata": {},
   "source": [
    "---\n",
    "**15. What is a lambda function and why is it useful?**"
   ]
  },
  {
   "cell_type": "code",
   "execution_count": null,
   "metadata": {},
   "outputs": [],
   "source": []
  }
 ],
 "metadata": {
  "kernelspec": {
   "display_name": "Python 3",
   "language": "python",
   "name": "python3"
  },
  "language_info": {
   "codemirror_mode": {
    "name": "ipython",
    "version": 3
   },
   "file_extension": ".py",
   "mimetype": "text/x-python",
   "name": "python",
   "nbconvert_exporter": "python",
   "pygments_lexer": "ipython3",
   "version": "3.10.7"
  },
  "vscode": {
   "interpreter": {
    "hash": "400cd14d12c292ce7f00a127e6c63ebc746ba485d566a73057749b227437f068"
   }
  }
 },
 "nbformat": 4,
 "nbformat_minor": 2
}
